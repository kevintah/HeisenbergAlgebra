{
  "nbformat": 4,
  "nbformat_minor": 0,
  "metadata": {
    "colab": {
      "name": "heissenbergAlgebra.ipynb",
      "provenance": [],
      "authorship_tag": "ABX9TyMicSF35OTr6S7Ff/t8OwEy",
      "include_colab_link": true
    },
    "kernelspec": {
      "name": "python3",
      "display_name": "Python 3"
    },
    "language_info": {
      "name": "python"
    }
  },
  "cells": [
    {
      "cell_type": "markdown",
      "metadata": {
        "id": "view-in-github",
        "colab_type": "text"
      },
      "source": [
        "<a href=\"https://colab.research.google.com/github/kevintah/HeisenbergAlgebra/blob/main/heissenbergAlgebra.ipynb\" target=\"_parent\"><img src=\"https://colab.research.google.com/assets/colab-badge.svg\" alt=\"Open In Colab\"/></a>"
      ]
    },
    {
      "cell_type": "markdown",
      "source": [
        "Heisenberg algebra from Heisenberg Group\n",
        "\n",
        "Generally,\n",
        "     \n",
        "- A matrix exponential $e^{At} = I + At + \\frac{1}{2} A^2t^2+ . . . $\n",
        "\n",
        "- The derivative  $\\frac{d}{dt} e^{At} =  A$   +  $A^2 t. . .  = A.e^{At}$\n",
        "\n",
        "See[ Gilbert Strang Explain the above](https://www.youtube.com/embed/LwSk9M5lJx4)\n",
        "\n",
        "Let\n",
        "    \n",
        "   $e^{At} =   \\begin{pmatrix}\n",
        "   1 & a(t) & b(t)\\\\\n",
        "   0 & 1 & c(t)\\\\\n",
        "   0 & 0 & 1\n",
        "\\end{pmatrix}$\n",
        "\n",
        "then \n",
        "$\\frac{d}{dt} e^{At}|_0= \\begin{pmatrix}\n",
        "   0 & a'(0) & b'(0)\\\\\n",
        "   0 & 0 & c'(0)\\\\\n",
        "   0 & 0 & 0   \n",
        "   \\end{pmatrix}$\n",
        "\n",
        "with basis:\n",
        "$ A= \\begin{pmatrix}\n",
        "   0 & 1 & 0\\\\\n",
        "   0 & 0 & 0\\\\\n",
        "   0 & 0 & 0   \n",
        "   \\end{pmatrix}$, $B =\\begin{pmatrix}\n",
        "   0 & 0 & 0\\\\\n",
        "   0 & 0 & 1\\\\\n",
        "   0 & 0 & 0   \n",
        "   \\end{pmatrix}$\n",
        " and \n",
        "$C =\\begin{pmatrix}\n",
        "   0 & 0 & 1\\\\\n",
        "   0 & 0 & 0\\\\\n",
        "   0 & 0 & 0   \n",
        "   \\end{pmatrix}$\n",
        "\n",
        "Then $[A,B], [A, C]$ and $[B, C]$ can be computed"
      ],
      "metadata": {
        "id": "mLBw7Q_329ra"
      }
    },
    {
      "cell_type": "code",
      "source": [
        ""
      ],
      "metadata": {
        "id": "I2jvcaIs5MDu"
      },
      "execution_count": null,
      "outputs": []
    }
  ]
}